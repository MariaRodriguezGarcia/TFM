{
 "cells": [
  {
   "cell_type": "markdown",
   "metadata": {},
   "source": [
    "## Eliminar loss-rows en IoTD20"
   ]
  },
  {
   "cell_type": "code",
   "execution_count": 1,
   "metadata": {},
   "outputs": [],
   "source": [
    "import pandas as pd\n",
    "import numpy as np\n",
    "import os \n",
    "\n",
    "def process_conn_log(folder_path,columns = ['uid','missed_bytes','orig_bytes','resp_bytes']):\n",
    "\n",
    "    df = pd.read_csv(folder_path,usecols=columns)\n",
    "    df.loc[df['missed_bytes'] == '-', 'missed_bytes'] = np.nan \n",
    "    df.loc[df['orig_bytes'] == '-', 'missed_bytes'] = np.nan\n",
    "    df.loc[df['resp_bytes'] == '-', 'missed_bytes'] = np.nan  \n",
    "\n",
    "    # Convert remaining NaNs to 0 after substitution\n",
    "    df['missed_bytes'] = pd.to_numeric(df['missed_bytes'], errors='coerce').fillna(0)\n",
    "    df['orig_bytes'] = pd.to_numeric(df['orig_bytes'], errors='coerce').fillna(0)\n",
    "    df['resp_bytes'] = pd.to_numeric(df['resp_bytes'], errors='coerce').fillna(0)\n",
    "\n",
    "    df['missed_ratio'] = np.where((df['missed_bytes'].isna()) | (df['missed_bytes'] == 0), 0, pd.to_numeric(df['missed_bytes']) / (pd.to_numeric(df['orig_bytes']) + pd.to_numeric(df['resp_bytes'])))\n",
    "            \n",
    "    # Filter rows with loss > 0.01 and append to list\n",
    "    filtered_chunk = df[df['missed_ratio'] > 0.01]\n",
    "                \n",
    "    # Filter rows with loss > 0.01 and append to list\n",
    "    filtered_chunk = df[df['missed_ratio'] > 0.01].copy()  # Make a copy to avoid the warning\n",
    "    filtered_chunk.loc[:, 'missed_ratio'] = df['missed_ratio']  # Assign values using .loc[]\n",
    "\n",
    "    print(\"all_labeled_loss_rows.csv created\")\n",
    "    # Save concatenated data frame to CSV\n",
    "    output_path = \"/root/bbdd/logs-zeek/iotd20-logs/loss-rows/\"  # Change this to the desired directory path\n",
    "    csv_filename = os.path.join(output_path, \"all_labeled_loss_rows_v2.csv\")\n",
    "    filtered_chunk.to_csv(csv_filename, index=False)"
   ]
  },
  {
   "cell_type": "code",
   "execution_count": 2,
   "metadata": {},
   "outputs": [
    {
     "name": "stdout",
     "output_type": "stream",
     "text": [
      "all_labeled_loss_rows.csv created\n"
     ]
    },
    {
     "name": "stderr",
     "output_type": "stream",
     "text": [
      "/tmp/ipykernel_34713/915625253.py:7: DtypeWarning: Columns (10,11) have mixed types. Specify dtype option on import or set low_memory=False.\n",
      "  df = pd.read_csv(folder_path,usecols=columns)\n"
     ]
    }
   ],
   "source": [
    "main_directory = \"/root/bbdd/logs-zeek/iotd20-logs/all_labeled_files_v2.csv\"# all_files_v2.csv\"\n",
    "process_conn_log(main_directory)\n"
   ]
  },
  {
   "cell_type": "code",
   "execution_count": 3,
   "metadata": {},
   "outputs": [
    {
     "name": "stderr",
     "output_type": "stream",
     "text": [
      "/tmp/ipykernel_34713/3765584059.py:2: DtypeWarning: Columns (9,10,11,13,14,24,42,48,49) have mixed types. Specify dtype option on import or set low_memory=False.\n",
      "  df = pd.read_csv(main_directory)\n"
     ]
    },
    {
     "name": "stdout",
     "output_type": "stream",
     "text": [
      "Rows to be removed:\n",
      "                  ts            startTime                 uid  \\\n",
      "5841    1.558924e+09  2019-05-27 02:20:36  CzgLyc2NsGNrPWKCcg   \n",
      "7596    1.558924e+09  2019-05-27 02:20:34  CHmpSf3rQFWFwuJae3   \n",
      "8995    1.558924e+09  2019-05-27 02:20:36  Cb1Tyu4uh0tTAlPQDg   \n",
      "9512    1.558924e+09  2019-05-27 02:20:42  CS4NVt4Cl3lT788uG8   \n",
      "10437   1.558924e+09  2019-05-27 02:20:42   CmuBjSajDJiFWiYF4   \n",
      "...              ...                  ...                 ...   \n",
      "131118  1.558343e+09  2019-05-20 08:56:31   CVnNsWUWSQGQlnEg9   \n",
      "131125  1.558343e+09  2019-05-20 09:00:14  CoqIpg2SHZRy5R0ske   \n",
      "131126  1.558343e+09  2019-05-20 08:57:26  CpYD184A6C8rvlOBwl   \n",
      "131134  1.558343e+09  2019-05-20 08:56:30  CxOtYr485rDZYMdW91   \n",
      "131138  1.558343e+09  2019-05-20 08:56:33  COFP251YhRtoLuh7rh   \n",
      "\n",
      "              id.orig_h  id.orig_p        id.resp_h  id.resp_p proto service  \\\n",
      "5841       192.168.0.23      35854  150.109.162.107      10554   tcp     NaN   \n",
      "7596     111.113.55.166       7346     192.168.0.13        554   tcp     NaN   \n",
      "8995     111.79.218.140       4401     192.168.0.13        554   tcp     NaN   \n",
      "9512    111.181.220.175       5300     192.168.0.13        554   tcp     NaN   \n",
      "10437   111.208.182.176       2197     192.168.0.13        554   tcp     NaN   \n",
      "...                 ...        ...              ...        ...   ...     ...   \n",
      "131118     192.168.0.23      48500   13.209.102.114        443   tcp     ssl   \n",
      "131125     192.168.0.24      57678  222.239.240.107        443   tcp     ssl   \n",
      "131126     192.168.0.24      39486   223.39.123.191        443   tcp     ssl   \n",
      "131134     192.168.0.23      48498   13.209.102.114        443   tcp     ssl   \n",
      "131138     192.168.0.23      53642    14.129.200.42        443   tcp       -   \n",
      "\n",
      "         duration  ... orig_time_min orig_time_max resp_time_mean  \\\n",
      "5841     0.494914  ...      0.000078      0.254276       0.019035   \n",
      "7596     0.001964  ...      0.001964      0.001964       0.000000   \n",
      "8995       0.0041  ...      0.004100      0.004100       0.000000   \n",
      "9512     0.003858  ...      0.002385      0.002385       0.002385   \n",
      "10437    0.002379  ...      0.001222      0.001222       0.001222   \n",
      "...           ...  ...           ...           ...            ...   \n",
      "131118  65.863464  ...      0.000000     60.716144       5.488622   \n",
      "131125   2.440479  ...      0.000000      0.376685       0.002028   \n",
      "131126   5.171465  ...      0.000000      0.115229       0.469866   \n",
      "131134  65.978042  ...      0.000000      0.038261       5.075234   \n",
      "131138   0.189651  ...      0.001777      0.028241       0.011837   \n",
      "\n",
      "       resp_time_min resp_time_max  resp_bytes_std resp_time_std  \\\n",
      "5841        0.000000      0.373189       52.307692       0.07441   \n",
      "7596    10000.000000      0.000000             0.0           NaN   \n",
      "8995    10000.000000      0.000000             0.0           NaN   \n",
      "9512        0.002385      0.002385             0.0           0.0   \n",
      "10437       0.001222      0.001222             0.0           0.0   \n",
      "...              ...           ...             ...           ...   \n",
      "131118      0.000000     60.668609      709.618115     16.697474   \n",
      "131125      0.000000      0.388369     1541.403971      0.015834   \n",
      "131126      0.000000      5.021141      755.690336      1.439666   \n",
      "131134      0.000000     60.751895      695.388014     16.130282   \n",
      "131138      0.000000      0.109641       540.61001      0.027069   \n",
      "\n",
      "        binary-label   label  detailed-label  \n",
      "5841               0  benign          benign  \n",
      "7596               1     DoS    DoS-SYNFlood  \n",
      "8995               1     DoS    DoS-SYNFlood  \n",
      "9512               1     DoS    DoS-SYNFlood  \n",
      "10437              1     DoS    DoS-SYNFlood  \n",
      "...              ...     ...             ...  \n",
      "131118             0  benign          benign  \n",
      "131125             0  benign          benign  \n",
      "131126             0  benign          benign  \n",
      "131134             0  benign          benign  \n",
      "131138             0  benign          benign  \n",
      "\n",
      "[1783 rows x 53 columns]\n"
     ]
    }
   ],
   "source": [
    "\n",
    "loss_rows_path = \"/root/bbdd/logs-zeek/iotd20-logs/loss-rows/all_labeled_loss_rows_v2.csv\"\n",
    "df = pd.read_csv(main_directory)\n",
    "# Check for the file with name folder_name + _loss_rows.csv  \n",
    "df_loss = pd.read_csv(loss_rows_path)\n",
    "# Identify rows to be removed\n",
    "rows_to_remove = df[df['uid'].isin(df_loss['uid'])]\n",
    "\n",
    "# Print the rows that are going to be removed\n",
    "print(\"Rows to be removed:\")\n",
    "print(rows_to_remove)\n",
    "# Remove rows from df where df['uid'] is in df_loss['uid']\n",
    "df = df[~df['uid'].isin(df_loss['uid'])]\n",
    "# Save concatenated data frame to CSV\n",
    "output_path = \"/root/bbdd/logs-zeek/iotd20-logs/all-labeled-final_v2.csv\"  # Change this to the desired directory path\n",
    "df.to_csv(output_path, index=False)\n",
    "    \n"
   ]
  }
 ],
 "metadata": {
  "kernelspec": {
   "display_name": "Python 3 (ipykernel)",
   "language": "python",
   "name": "python3"
  },
  "language_info": {
   "codemirror_mode": {
    "name": "ipython",
    "version": 3
   },
   "file_extension": ".py",
   "mimetype": "text/x-python",
   "name": "python",
   "nbconvert_exporter": "python",
   "pygments_lexer": "ipython3",
   "version": "3.9.2"
  }
 },
 "nbformat": 4,
 "nbformat_minor": 2
}
