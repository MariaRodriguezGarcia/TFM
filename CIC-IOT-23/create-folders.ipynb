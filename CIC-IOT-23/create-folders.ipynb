{
 "cells": [
  {
   "cell_type": "markdown",
   "metadata": {},
   "source": [
    "# Mirai Greeth"
   ]
  },
  {
   "cell_type": "code",
   "execution_count": 7,
   "metadata": {},
   "outputs": [
    {
     "name": "stdout",
     "output_type": "stream",
     "text": [
      "Processing file: /root/bbdd/cic-iot-2023/Mirai-greeth_flood/Mirai-greeth_flood14.pcap\n",
      "Created folder: /root/bbdd/logs-zeek/cic-iot-2023-logs/mirai-greeth/Mirai-greeth_flood14\n",
      "Processing file: /root/bbdd/cic-iot-2023/Mirai-greeth_flood/Mirai-greeth_flood2.pcap\n",
      "Created folder: /root/bbdd/logs-zeek/cic-iot-2023-logs/mirai-greeth/Mirai-greeth_flood2\n",
      "Processing file: /root/bbdd/cic-iot-2023/Mirai-greeth_flood/Mirai-greeth_flood8.pcap\n",
      "Created folder: /root/bbdd/logs-zeek/cic-iot-2023-logs/mirai-greeth/Mirai-greeth_flood8\n",
      "Processing file: /root/bbdd/cic-iot-2023/Mirai-greeth_flood/Mirai-greeth_flood26.pcap\n",
      "Created folder: /root/bbdd/logs-zeek/cic-iot-2023-logs/mirai-greeth/Mirai-greeth_flood26\n",
      "Processing file: /root/bbdd/cic-iot-2023/Mirai-greeth_flood/Mirai-greeth_flood4.pcap\n",
      "Created folder: /root/bbdd/logs-zeek/cic-iot-2023-logs/mirai-greeth/Mirai-greeth_flood4\n",
      "Processing file: /root/bbdd/cic-iot-2023/Mirai-greeth_flood/Mirai-greeth_flood20.pcap\n",
      "Created folder: /root/bbdd/logs-zeek/cic-iot-2023-logs/mirai-greeth/Mirai-greeth_flood20\n",
      "Processing file: /root/bbdd/cic-iot-2023/Mirai-greeth_flood/Mirai-greeth_flood28.pcap\n",
      "Created folder: /root/bbdd/logs-zeek/cic-iot-2023-logs/mirai-greeth/Mirai-greeth_flood28\n",
      "Processing file: /root/bbdd/cic-iot-2023/Mirai-greeth_flood/Mirai-greeth_flood9.pcap\n",
      "Created folder: /root/bbdd/logs-zeek/cic-iot-2023-logs/mirai-greeth/Mirai-greeth_flood9\n",
      "Processing file: /root/bbdd/cic-iot-2023/Mirai-greeth_flood/Mirai-greeth_flood12.pcap\n",
      "Created folder: /root/bbdd/logs-zeek/cic-iot-2023-logs/mirai-greeth/Mirai-greeth_flood12\n",
      "Processing file: /root/bbdd/cic-iot-2023/Mirai-greeth_flood/Mirai-greeth_flood11.pcap\n",
      "Created folder: /root/bbdd/logs-zeek/cic-iot-2023-logs/mirai-greeth/Mirai-greeth_flood11\n",
      "Processing file: /root/bbdd/cic-iot-2023/Mirai-greeth_flood/Mirai-greeth_flood1.pcap\n",
      "Created folder: /root/bbdd/logs-zeek/cic-iot-2023-logs/mirai-greeth/Mirai-greeth_flood1\n",
      "Processing file: /root/bbdd/cic-iot-2023/Mirai-greeth_flood/Mirai-greeth_flood27.pcap\n",
      "Created folder: /root/bbdd/logs-zeek/cic-iot-2023-logs/mirai-greeth/Mirai-greeth_flood27\n",
      "Processing file: /root/bbdd/cic-iot-2023/Mirai-greeth_flood/Mirai-greeth_flood18.pcap\n",
      "Created folder: /root/bbdd/logs-zeek/cic-iot-2023-logs/mirai-greeth/Mirai-greeth_flood18\n",
      "Processing file: /root/bbdd/cic-iot-2023/Mirai-greeth_flood/Mirai-greeth_flood22.pcap\n",
      "Created folder: /root/bbdd/logs-zeek/cic-iot-2023-logs/mirai-greeth/Mirai-greeth_flood22\n",
      "Processing file: /root/bbdd/cic-iot-2023/Mirai-greeth_flood/Mirai-greeth_flood10.pcap\n",
      "Created folder: /root/bbdd/logs-zeek/cic-iot-2023-logs/mirai-greeth/Mirai-greeth_flood10\n",
      "Processing file: /root/bbdd/cic-iot-2023/Mirai-greeth_flood/Mirai-greeth_flood16.pcap\n",
      "Created folder: /root/bbdd/logs-zeek/cic-iot-2023-logs/mirai-greeth/Mirai-greeth_flood16\n",
      "Processing file: /root/bbdd/cic-iot-2023/Mirai-greeth_flood/Mirai-greeth_flood21.pcap\n",
      "Created folder: /root/bbdd/logs-zeek/cic-iot-2023-logs/mirai-greeth/Mirai-greeth_flood21\n",
      "Processing file: /root/bbdd/cic-iot-2023/Mirai-greeth_flood/Mirai-greeth_flood.pcap\n",
      "Created folder: /root/bbdd/logs-zeek/cic-iot-2023-logs/mirai-greeth/Mirai-greeth_flood\n",
      "Processing file: /root/bbdd/cic-iot-2023/Mirai-greeth_flood/Mirai-greeth_flood25.pcap\n",
      "Created folder: /root/bbdd/logs-zeek/cic-iot-2023-logs/mirai-greeth/Mirai-greeth_flood25\n",
      "Processing file: /root/bbdd/cic-iot-2023/Mirai-greeth_flood/Mirai-greeth_flood17.pcap\n",
      "Created folder: /root/bbdd/logs-zeek/cic-iot-2023-logs/mirai-greeth/Mirai-greeth_flood17\n",
      "Processing file: /root/bbdd/cic-iot-2023/Mirai-greeth_flood/Mirai-greeth_flood15.pcap\n",
      "Created folder: /root/bbdd/logs-zeek/cic-iot-2023-logs/mirai-greeth/Mirai-greeth_flood15\n",
      "Processing file: /root/bbdd/cic-iot-2023/Mirai-greeth_flood/Mirai-greeth_flood5.pcap\n",
      "Created folder: /root/bbdd/logs-zeek/cic-iot-2023-logs/mirai-greeth/Mirai-greeth_flood5\n",
      "Processing file: /root/bbdd/cic-iot-2023/Mirai-greeth_flood/Mirai-greeth_flood7.pcap\n",
      "Created folder: /root/bbdd/logs-zeek/cic-iot-2023-logs/mirai-greeth/Mirai-greeth_flood7\n",
      "Processing file: /root/bbdd/cic-iot-2023/Mirai-greeth_flood/Mirai-greeth_flood6.pcap\n",
      "Created folder: /root/bbdd/logs-zeek/cic-iot-2023-logs/mirai-greeth/Mirai-greeth_flood6\n",
      "Processing file: /root/bbdd/cic-iot-2023/Mirai-greeth_flood/Mirai-greeth_flood19.pcap\n",
      "Created folder: /root/bbdd/logs-zeek/cic-iot-2023-logs/mirai-greeth/Mirai-greeth_flood19\n",
      "Processing file: /root/bbdd/cic-iot-2023/Mirai-greeth_flood/Mirai-greeth_flood13.pcap\n",
      "Created folder: /root/bbdd/logs-zeek/cic-iot-2023-logs/mirai-greeth/Mirai-greeth_flood13\n",
      "Processing file: /root/bbdd/cic-iot-2023/Mirai-greeth_flood/Mirai-greeth_flood23.pcap\n",
      "Created folder: /root/bbdd/logs-zeek/cic-iot-2023-logs/mirai-greeth/Mirai-greeth_flood23\n",
      "Processing file: /root/bbdd/cic-iot-2023/Mirai-greeth_flood/Mirai-greeth_flood3.pcap\n",
      "Created folder: /root/bbdd/logs-zeek/cic-iot-2023-logs/mirai-greeth/Mirai-greeth_flood3\n",
      "Processing file: /root/bbdd/cic-iot-2023/Mirai-greeth_flood/Mirai-greeth_flood24.pcap\n",
      "Created folder: /root/bbdd/logs-zeek/cic-iot-2023-logs/mirai-greeth/Mirai-greeth_flood24\n"
     ]
    }
   ],
   "source": [
    "import os\n",
    "\n",
    "def create_folders(source_directory, destination_directory):\n",
    "    # Iterate over each file in the source directory\n",
    "    for filename in os.listdir(source_directory):\n",
    "        # Get the full path of the file\n",
    "        filepath = os.path.join(source_directory, filename)\n",
    "        # Check if it's a file\n",
    "        if os.path.isfile(filepath):\n",
    "            print(\"Processing file:\", filepath)\n",
    "            # Remove the file extension\n",
    "            folder_name = os.path.splitext(filename)[0]\n",
    "            # Create the folder in the destination directory\n",
    "            folder_path = os.path.join(destination_directory, folder_name)\n",
    "            os.makedirs(folder_path, exist_ok=True)\n",
    "            print(\"Created folder:\", folder_path)\n",
    "\n",
    "if __name__ == \"__main__\":\n",
    "    # Specify the source and destination directories\n",
    "    source_directory = \"/root/bbdd/cic-iot-2023/Mirai-greeth_flood/\"\n",
    "    destination_directory = \"/root/bbdd/logs-zeek/cic-iot-2023-logs/mirai-greeth\"\n",
    "    create_folders(source_directory, destination_directory)"
   ]
  }
 ],
 "metadata": {
  "kernelspec": {
   "display_name": "Python 3 (ipykernel)",
   "language": "python",
   "name": "python3"
  }
 },
 "nbformat": 4,
 "nbformat_minor": 2
}
