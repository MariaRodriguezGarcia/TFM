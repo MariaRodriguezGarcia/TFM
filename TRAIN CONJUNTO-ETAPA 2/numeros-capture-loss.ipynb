{
 "cells": [
  {
   "cell_type": "code",
   "execution_count": 2,
   "metadata": {},
   "outputs": [],
   "source": [
    "import pandas as pd\n",
    "path = \"/root/bbdd/logs-zeek/iotd20-logs/loss-rows/all_labeled_loss_rows.csv\"\n",
    "df = pd.read_csv(path)"
   ]
  },
  {
   "cell_type": "code",
   "execution_count": 4,
   "metadata": {},
   "outputs": [
    {
     "name": "stdout",
     "output_type": "stream",
     "text": [
      "Total number of rows: 1765\n",
      "Number of rows with 'missed-ratio' > 0.1: 1631\n"
     ]
    }
   ],
   "source": [
    "# Get the total number of rows\n",
    "total_rows = len(df)\n",
    "\n",
    "# Get the number of rows where 'missed-ratio' is greater than 0.1\n",
    "missed_ratio_count = df[df['missed_ratio'] > 0.1].shape[0]\n",
    "\n",
    "# Print the results\n",
    "print(f\"Total number of rows: {total_rows}\")\n",
    "print(f\"Number of rows with 'missed-ratio' > 0.1: {missed_ratio_count}\")"
   ]
  },
  {
   "cell_type": "code",
   "execution_count": 5,
   "metadata": {},
   "outputs": [
    {
     "name": "stdout",
     "output_type": "stream",
     "text": [
      "Total number of rows: 121420\n"
     ]
    },
    {
     "name": "stderr",
     "output_type": "stream",
     "text": [
      "/tmp/ipykernel_28935/4125409457.py:2: DtypeWarning: Columns (8,9,10,12,13,23,24,47,48) have mixed types. Specify dtype option on import or set low_memory=False.\n",
      "  df = pd.read_csv(path)\n"
     ]
    }
   ],
   "source": [
    "path = \"/root/bbdd/logs-zeek/iotd20-logs/all-labeled-final.csv\"\n",
    "df = pd.read_csv(path)\n",
    "total_rows = len(df)\n",
    "print(f\"Total number of rows: {total_rows}\")"
   ]
  },
  {
   "cell_type": "code",
   "execution_count": 6,
   "metadata": {},
   "outputs": [
    {
     "name": "stdout",
     "output_type": "stream",
     "text": [
      "Total number of rows: 123185\n"
     ]
    },
    {
     "name": "stderr",
     "output_type": "stream",
     "text": [
      "/tmp/ipykernel_28935/1680117178.py:2: DtypeWarning: Columns (8,9,10,12,13,23,24,47,48) have mixed types. Specify dtype option on import or set low_memory=False.\n",
      "  df = pd.read_csv(path)\n"
     ]
    }
   ],
   "source": [
    "path = \"/root/bbdd/logs-zeek/iotd20-logs/all-labeled_all.csv\"\n",
    "df = pd.read_csv(path)\n",
    "total_rows = len(df)\n",
    "print(f\"Total number of rows: {total_rows}\")"
   ]
  },
  {
   "cell_type": "code",
   "execution_count": 2,
   "metadata": {},
   "outputs": [
    {
     "name": "stdout",
     "output_type": "stream",
     "text": [
      "Total number of rows across all files: 30\n",
      "Total number of rows with 'missed-ratio' > 0.1 across all files: 16\n"
     ]
    }
   ],
   "source": [
    "import os\n",
    "import pandas as pd\n",
    "\n",
    "# Directory containing the CSV files\n",
    "directory = \"/root/bbdd/logs-zeek/iot-23-logs/loss-rows/\"\n",
    "\n",
    "# List all files in the directory\n",
    "files = [f for f in os.listdir(directory) if f.endswith('.csv')]\n",
    "\n",
    "# Initialize counters for the total rows and rows with 'missed-ratio' > 0.1\n",
    "total_rows_all_files = 0\n",
    "missed_ratio_count_all_files = 0\n",
    "\n",
    "# Iterate over each file\n",
    "for file in files:\n",
    "    file_path = os.path.join(directory, file)\n",
    "    df = pd.read_csv(file_path)\n",
    "    \n",
    "    # Get the total number of rows\n",
    "    total_rows = len(df)\n",
    "    \n",
    "    # Get the number of rows where 'missed-ratio' is greater than 0.1\n",
    "    missed_ratio_count = df[df['missed_ratio'] > 0.1].shape[0]\n",
    "    \n",
    "    # Add to the cumulative totals\n",
    "    total_rows_all_files += total_rows\n",
    "    missed_ratio_count_all_files += missed_ratio_count\n",
    "\n",
    "# Print the cumulative results\n",
    "print(f\"Total number of rows across all files: {total_rows_all_files}\")\n",
    "print(f\"Total number of rows with 'missed-ratio' > 0.1 across all files: {missed_ratio_count_all_files}\")"
   ]
  },
  {
   "cell_type": "code",
   "execution_count": 3,
   "metadata": {},
   "outputs": [
    {
     "name": "stdout",
     "output_type": "stream",
     "text": [
      "Total number of rows across all files: 78050\n",
      "Total number of rows with 'missed-ratio' > 0.1 across all files: 51570\n"
     ]
    }
   ],
   "source": [
    "\n",
    "import os\n",
    "import pandas as pd\n",
    "\n",
    "# Directory containing the CSV files\n",
    "directory = \"/root/bbdd/logs-zeek/cic-iot-2023-logs/loss-rows/\"\n",
    "\n",
    "# List all files in the directory\n",
    "files = [f for f in os.listdir(directory) if f.endswith('.csv')]\n",
    "\n",
    "# Initialize counters for the total rows and rows with 'missed-ratio' > 0.1\n",
    "total_rows_all_files = 0\n",
    "missed_ratio_count_all_files = 0\n",
    "\n",
    "# Iterate over each file\n",
    "for file in files:\n",
    "    file_path = os.path.join(directory, file)\n",
    "    df = pd.read_csv(file_path)\n",
    "    \n",
    "    # Get the total number of rows\n",
    "    total_rows = len(df)\n",
    "    \n",
    "    # Get the number of rows where 'missed-ratio' is greater than 0.1\n",
    "    missed_ratio_count = df[df['missed_ratio'] > 0.1].shape[0]\n",
    "    \n",
    "    # Add to the cumulative totals\n",
    "    total_rows_all_files += total_rows\n",
    "    missed_ratio_count_all_files += missed_ratio_count\n",
    "\n",
    "# Print the cumulative results\n",
    "print(f\"Total number of rows across all files: {total_rows_all_files}\")\n",
    "print(f\"Total number of rows with 'missed-ratio' > 0.1 across all files: {missed_ratio_count_all_files}\")"
   ]
  }
 ],
 "metadata": {
  "kernelspec": {
   "display_name": "Python 3 (ipykernel)",
   "language": "python",
   "name": "python3"
  },
  "language_info": {
   "codemirror_mode": {
    "name": "ipython",
    "version": 3
   },
   "file_extension": ".py",
   "mimetype": "text/x-python",
   "name": "python",
   "nbconvert_exporter": "python",
   "pygments_lexer": "ipython3",
   "version": "3.9.2"
  }
 },
 "nbformat": 4,
 "nbformat_minor": 2
}
